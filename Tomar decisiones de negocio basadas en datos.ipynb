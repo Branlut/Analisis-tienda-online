{
 "cells": [
  {
   "cell_type": "markdown",
   "metadata": {},
   "source": [
    "# Objetivo\n",
    "\n",
    "Una gran tienda online nos pidio como analista hacer una recopilacion de hipotesis para ayudar a aumentar los ingresos, esto se realizo en conjunto con el departamento de marketing\n",
    "\n",
    "-Tenemos que verifircar las hispotesis y listar segun prioridad\n",
    "\n",
    "-Realizar pruebas A/B para analizar los resultados de estas"
   ]
  },
  {
   "cell_type": "code",
   "execution_count": 1,
   "metadata": {},
   "outputs": [],
   "source": [
    "import datetime as dt\n",
    "import math as mth\n",
    "\n",
    "import pandas as pd\n",
    "import numpy as np\n",
    "from scipy import stats as st\n",
    "\n",
    "import matplotlib.pyplot as plt"
   ]
  },
  {
   "cell_type": "code",
   "execution_count": 2,
   "metadata": {},
   "outputs": [],
   "source": [
    "df_hipotesis = pd.read_csv('/datasets/hypotheses_us.csv', sep=\";\")\n",
    "df_orders = pd.read_csv('/datasets/orders_us.csv')\n",
    "df_visits = pd.read_csv('/datasets/visits_us.csv')"
   ]
  },
  {
   "cell_type": "code",
   "execution_count": 3,
   "metadata": {},
   "outputs": [
    {
     "name": "stdout",
     "output_type": "stream",
     "text": [
      "                                          Hypothesis  Reach  Impact  \\\n",
      "0  Add two new channels for attracting traffic. T...      3      10   \n",
      "1  Launch your own delivery service. This will sh...      2       5   \n",
      "2  Add product recommendation blocks to the store...      8       3   \n",
      "3  Change the category structure. This will incre...      8       3   \n",
      "4  Change the background color on the main page. ...      3       1   \n",
      "5  Add a customer review page. This will increase...      3       2   \n",
      "6  Show banners with current offers and sales on ...      5       3   \n",
      "7  Add a subscription form to all the main pages....     10       7   \n",
      "8  Launch a promotion that gives users discounts ...      1       9   \n",
      "\n",
      "   Confidence  Effort  \n",
      "0           8       6  \n",
      "1           4      10  \n",
      "2           7       3  \n",
      "3           3       8  \n",
      "4           1       1  \n",
      "5           2       3  \n",
      "6           8       3  \n",
      "7           8       5  \n",
      "8           9       5  \n",
      "      transactionId   visitorId        date  revenue group\n",
      "0        3667963787  3312258926  2019-08-15     30.4     B\n",
      "1        2804400009  3642806036  2019-08-15     15.2     B\n",
      "2        2961555356  4069496402  2019-08-15     10.2     A\n",
      "3        3797467345  1196621759  2019-08-15    155.1     B\n",
      "4        2282983706  2322279887  2019-08-15     40.5     B\n",
      "...             ...         ...         ...      ...   ...\n",
      "1192     2662137336  3733762160  2019-08-14    100.8     B\n",
      "1193     2203539145   370388673  2019-08-14     50.1     A\n",
      "1194     1807773912   573423106  2019-08-14    165.3     A\n",
      "1195     1947021204  1614305549  2019-08-14      5.5     A\n",
      "1196     3936777065  2108080724  2019-08-15   3120.1     B\n",
      "\n",
      "[1197 rows x 5 columns]\n",
      "          date group  visits\n",
      "0   2019-08-01     A     719\n",
      "1   2019-08-02     A     619\n",
      "2   2019-08-03     A     507\n",
      "3   2019-08-04     A     717\n",
      "4   2019-08-05     A     756\n",
      "..         ...   ...     ...\n",
      "57  2019-08-27     B     720\n",
      "58  2019-08-28     B     654\n",
      "59  2019-08-29     B     531\n",
      "60  2019-08-30     B     490\n",
      "61  2019-08-31     B     718\n",
      "\n",
      "[62 rows x 3 columns]\n"
     ]
    }
   ],
   "source": [
    "print(df_hipotesis)\n",
    "print(df_orders)\n",
    "print(df_visits)"
   ]
  },
  {
   "cell_type": "code",
   "execution_count": 4,
   "metadata": {},
   "outputs": [
    {
     "name": "stdout",
     "output_type": "stream",
     "text": [
      "transactionId    0\n",
      "visitorId        0\n",
      "date             0\n",
      "revenue          0\n",
      "group            0\n",
      "dtype: int64\n",
      "date      0\n",
      "group     0\n",
      "visits    0\n",
      "dtype: int64\n"
     ]
    }
   ],
   "source": [
    "print(df_orders.isna().sum())\n",
    "print(df_visits.isna().sum())"
   ]
  },
  {
   "cell_type": "code",
   "execution_count": 5,
   "metadata": {},
   "outputs": [
    {
     "name": "stdout",
     "output_type": "stream",
     "text": [
      "0\n",
      "0\n"
     ]
    }
   ],
   "source": [
    "print(df_orders.duplicated().sum())\n",
    "print(df_visits.duplicated().sum())"
   ]
  },
  {
   "cell_type": "markdown",
   "metadata": {},
   "source": [
    "## Priorizar hipotesis"
   ]
  },
  {
   "cell_type": "code",
   "execution_count": 6,
   "metadata": {},
   "outputs": [
    {
     "name": "stdout",
     "output_type": "stream",
     "text": [
      "                                          Hypothesis  Reach  Impact  \\\n",
      "0  Add two new channels for attracting traffic. T...      3      10   \n",
      "1  Launch your own delivery service. This will sh...      2       5   \n",
      "2  Add product recommendation blocks to the store...      8       3   \n",
      "3  Change the category structure. This will incre...      8       3   \n",
      "4  Change the background color on the main page. ...      3       1   \n",
      "5  Add a customer review page. This will increase...      3       2   \n",
      "6  Show banners with current offers and sales on ...      5       3   \n",
      "7  Add a subscription form to all the main pages....     10       7   \n",
      "8  Launch a promotion that gives users discounts ...      1       9   \n",
      "\n",
      "   Confidence  Effort        ICE   RICE  \n",
      "0           8       6  13.333333   40.0  \n",
      "1           4      10   2.000000    4.0  \n",
      "2           7       3   7.000000   56.0  \n",
      "3           3       8   1.125000    9.0  \n",
      "4           1       1   1.000000    3.0  \n",
      "5           2       3   1.333333    4.0  \n",
      "6           8       3   8.000000   40.0  \n",
      "7           8       5  11.200000  112.0  \n",
      "8           9       5  16.200000   16.2  \n"
     ]
    }
   ],
   "source": [
    "df_hipotesis['ICE'] = (df_hipotesis['Impact'] * df_hipotesis['Confidence'])/df_hipotesis['Effort']\n",
    "\n",
    "df_hipotesis['RICE'] = (df_hipotesis['Reach'] * df_hipotesis['Impact'] * df_hipotesis['Confidence'])/df_hipotesis['Effort']\n",
    "\n",
    "print(df_hipotesis)"
   ]
  },
  {
   "cell_type": "code",
   "execution_count": 7,
   "metadata": {},
   "outputs": [
    {
     "name": "stdout",
     "output_type": "stream",
     "text": [
      "                                          Hypothesis        ICE\n",
      "8  Launch a promotion that gives users discounts ...  16.200000\n",
      "0  Add two new channels for attracting traffic. T...  13.333333\n",
      "7  Add a subscription form to all the main pages....  11.200000\n",
      "6  Show banners with current offers and sales on ...   8.000000\n",
      "2  Add product recommendation blocks to the store...   7.000000\n",
      "1  Launch your own delivery service. This will sh...   2.000000\n",
      "5  Add a customer review page. This will increase...   1.333333\n",
      "3  Change the category structure. This will incre...   1.125000\n",
      "4  Change the background color on the main page. ...   1.000000\n",
      "\n",
      "                                          Hypothesis   RICE\n",
      "7  Add a subscription form to all the main pages....  112.0\n",
      "2  Add product recommendation blocks to the store...   56.0\n",
      "0  Add two new channels for attracting traffic. T...   40.0\n",
      "6  Show banners with current offers and sales on ...   40.0\n",
      "8  Launch a promotion that gives users discounts ...   16.2\n",
      "3  Change the category structure. This will incre...    9.0\n",
      "1  Launch your own delivery service. This will sh...    4.0\n",
      "5  Add a customer review page. This will increase...    4.0\n",
      "4  Change the background color on the main page. ...    3.0\n"
     ]
    }
   ],
   "source": [
    "print(df_hipotesis[['Hypothesis','ICE']].sort_values('ICE',ascending=False))\n",
    "print()\n",
    "print(df_hipotesis[['Hypothesis','RICE']].sort_values('RICE',ascending=False))"
   ]
  },
  {
   "cell_type": "markdown",
   "metadata": {},
   "source": [
    "-segun el puntaje por metodo ICE se priorizaron la hipotesis que tiene alta confianza, un esfuerzo medio y alto impacto\n",
    "\n",
    "-Segun el puntajen por el metodo RICE se priorizan las hipotesis que tiene mayor alcance, un impacto y confinza altos y un esfuerzo medio\n",
    "\n",
    "-El metodo RICE parace ser mas conveniente ya que indica el alcance (usuarios) que produciria la implementacion de algunas de estas estrategias o funcionalidades a la pagina web.\n",
    "\n",
    "-Tambien se considera que la hipotesis 0 (Add two new channels for...) y 7 (Add a subscription form to...) estan en el top 3 en ambos puntajes por lo cual estan son la hipotesis a considerar para posterioremente relizar una prueba A/B"
   ]
  },
  {
   "cell_type": "markdown",
   "metadata": {},
   "source": [
    "## 1 Representa gráficamente el ingreso acumulado por grupo. Haz conclusiones y conjeturas."
   ]
  },
  {
   "cell_type": "code",
   "execution_count": 8,
   "metadata": {},
   "outputs": [
    {
     "name": "stdout",
     "output_type": "stream",
     "text": [
      "<class 'pandas.core.frame.DataFrame'>\n",
      "RangeIndex: 1197 entries, 0 to 1196\n",
      "Data columns (total 5 columns):\n",
      " #   Column         Non-Null Count  Dtype  \n",
      "---  ------         --------------  -----  \n",
      " 0   transactionId  1197 non-null   int64  \n",
      " 1   visitorId      1197 non-null   int64  \n",
      " 2   date           1197 non-null   object \n",
      " 3   revenue        1197 non-null   float64\n",
      " 4   group          1197 non-null   object \n",
      "dtypes: float64(1), int64(2), object(2)\n",
      "memory usage: 46.9+ KB\n"
     ]
    }
   ],
   "source": [
    "df_orders.info()"
   ]
  },
  {
   "cell_type": "code",
   "execution_count": 9,
   "metadata": {},
   "outputs": [
    {
     "name": "stdout",
     "output_type": "stream",
     "text": [
      "<class 'pandas.core.frame.DataFrame'>\n",
      "RangeIndex: 1197 entries, 0 to 1196\n",
      "Data columns (total 5 columns):\n",
      " #   Column         Non-Null Count  Dtype         \n",
      "---  ------         --------------  -----         \n",
      " 0   transactionId  1197 non-null   int64         \n",
      " 1   visitorId      1197 non-null   int64         \n",
      " 2   date           1197 non-null   datetime64[ns]\n",
      " 3   revenue        1197 non-null   float64       \n",
      " 4   group          1197 non-null   object        \n",
      "dtypes: datetime64[ns](1), float64(1), int64(2), object(1)\n",
      "memory usage: 46.9+ KB\n",
      "      transactionId   visitorId       date  revenue group\n",
      "0        3667963787  3312258926 2019-08-15     30.4     B\n",
      "1        2804400009  3642806036 2019-08-15     15.2     B\n",
      "2        2961555356  4069496402 2019-08-15     10.2     A\n",
      "3        3797467345  1196621759 2019-08-15    155.1     B\n",
      "4        2282983706  2322279887 2019-08-15     40.5     B\n",
      "...             ...         ...        ...      ...   ...\n",
      "1192     2662137336  3733762160 2019-08-14    100.8     B\n",
      "1193     2203539145   370388673 2019-08-14     50.1     A\n",
      "1194     1807773912   573423106 2019-08-14    165.3     A\n",
      "1195     1947021204  1614305549 2019-08-14      5.5     A\n",
      "1196     3936777065  2108080724 2019-08-15   3120.1     B\n",
      "\n",
      "[1197 rows x 5 columns]\n"
     ]
    }
   ],
   "source": [
    "df_orders['date'] = pd.to_datetime(df_orders['date'])\n",
    "df_visits['date'] = pd.to_datetime(df_visits['date'])\n",
    "df_orders.info()\n",
    "print(df_orders)"
   ]
  },
  {
   "cell_type": "code",
   "execution_count": 10,
   "metadata": {},
   "outputs": [],
   "source": [
    "datesGroup = df_orders[['date','group']].drop_duplicates()\n",
    "\n",
    "ordersAcu = datesGroup.apply(lambda x: df_orders[np.logical_and(df_orders['date'] <= x['date'], \n",
    "                                                                df_orders['group']== x['group'])].agg({'date':'max',\n",
    "                                                                                                    'group':'max',\n",
    "                                                                                                    'transactionId':pd.Series.nunique,\n",
    "                                                                                                    'visitorId':pd.Series.nunique,\n",
    "                                                                                                    'revenue':'sum'}),axis=1).sort_values(by=['date','group'])"
   ]
  },
  {
   "cell_type": "code",
   "execution_count": 11,
   "metadata": {},
   "outputs": [],
   "source": [
    "visitsAcu = datesGroup.apply(lambda x: df_visits[np.logical_and(df_visits['date'] <= x['date'],df_visits['group']==x['group'])].agg({'date':'max',\n",
    "                                                                                                                                     'group':'max',\n",
    "                                                                                                                                     'visits':'sum'}),axis=1).sort_values(by=['date','group'])"
   ]
  },
  {
   "cell_type": "code",
   "execution_count": 12,
   "metadata": {},
   "outputs": [
    {
     "name": "stdout",
     "output_type": "stream",
     "text": [
      "          date group  visits\n",
      "55  2019-08-01     A     719\n",
      "66  2019-08-01     B     713\n",
      "175 2019-08-02     A    1338\n",
      "173 2019-08-02     B    1294\n",
      "291 2019-08-03     A    1845\n",
      "..         ...   ...     ...\n",
      "496 2019-08-29     B   17708\n",
      "730 2019-08-30     A   18037\n",
      "690 2019-08-30     B   18198\n",
      "958 2019-08-31     A   18736\n",
      "930 2019-08-31     B   18916\n",
      "\n",
      "[62 rows x 3 columns]\n"
     ]
    }
   ],
   "source": [
    "print(visitsAcu)"
   ]
  },
  {
   "cell_type": "code",
   "execution_count": 13,
   "metadata": {},
   "outputs": [
    {
     "name": "stdout",
     "output_type": "stream",
     "text": [
      "         date group  transactions  buyers  revenue  visitors\n",
      "0  2019-08-01     A            24      20   2356.8       719\n",
      "1  2019-08-01     B            21      20   1620.0       713\n",
      "2  2019-08-02     A            44      38   3860.3      1338\n",
      "3  2019-08-02     B            45      43   4243.8      1294\n",
      "4  2019-08-03     A            68      62   5675.5      1845\n",
      "..        ...   ...           ...     ...      ...       ...\n",
      "57 2019-08-29     B           596     544  87343.0     17708\n",
      "58 2019-08-30     A           545     493  63563.5     18037\n",
      "59 2019-08-30     B           620     567  90736.3     18198\n",
      "60 2019-08-31     A           557     503  64554.9     18736\n",
      "61 2019-08-31     B           640     586  92840.6     18916\n",
      "\n",
      "[62 rows x 6 columns]\n"
     ]
    }
   ],
   "source": [
    "datosAcu = ordersAcu.merge(visitsAcu, left_on=['date','group'],right_on=['date','group'])\n",
    "datosAcu.columns = ['date','group','transactions','buyers','revenue','visitors']\n",
    "print(datosAcu)"
   ]
  },
  {
   "cell_type": "code",
   "execution_count": 14,
   "metadata": {},
   "outputs": [],
   "source": [
    "acuA = datosAcu[datosAcu['group']=='A']\n",
    "acuB = datosAcu[datosAcu['group']=='B']"
   ]
  },
  {
   "cell_type": "code",
   "execution_count": 15,
   "metadata": {},
   "outputs": [
    {
     "data": {
      "image/png": "[encoded data removed]",
      "text/plain": [
       "<Figure size 1000x500 with 1 Axes>"
      ]
     },
     "metadata": {},
     "output_type": "display_data"
    }
   ],
   "source": [
    "plt.figure(figsize=(10,5))\n",
    "plt.plot(acuA['date'],acuA['revenue'],label='A')\n",
    "plt.plot(acuB['date'],acuB['revenue'],label='B')\n",
    "plt.xticks(rotation=45)\n",
    "plt.legend()\n",
    "plt.show()"
   ]
  },
  {
   "cell_type": "markdown",
   "metadata": {},
   "source": [
    "-Tanto el grupo A como B tenian similitudes en sus ingresos pero claramente el grupo B obtuvo mas ganacias que el grupo A\n",
    "\n",
    "-Lo anterior se puede deber a un gran numero de ventas en un tiempo determinado o a alguna orden con un precio muy elevado "
   ]
  },
  {
   "cell_type": "markdown",
   "metadata": {},
   "source": [
    "## 2 Representa gráficamente el tamaño de pedido promedio acumulado por grupo. "
   ]
  },
  {
   "cell_type": "code",
   "execution_count": 16,
   "metadata": {},
   "outputs": [
    {
     "data": {
      "image/png": "[encoded data removed]",
      "text/plain": [
       "<Figure size 1000x500 with 1 Axes>"
      ]
     },
     "metadata": {},
     "output_type": "display_data"
    }
   ],
   "source": [
    "plt.figure(figsize=(10,5))\n",
    "plt.plot(acuA['date'], acuA['revenue']/acuA['transactions'],label='A')\n",
    "plt.plot(acuB['date'], acuB['revenue']/acuB['transactions'],label='B')\n",
    "plt.xticks(rotation=45)\n",
    "plt.legend()\n",
    "plt.show()"
   ]
  },
  {
   "cell_type": "markdown",
   "metadata": {},
   "source": [
    "-El  compra promedio del grupo A empieza con un curva que luego se estabiliza al final \n",
    "\n",
    "-La compra promedio del grupo B empieza de forma creciente y tiene un alza significativa y luego de esto se estabiliza\n",
    "\n",
    "-Se puede ver que el grupo B supero nuevamente al grupo A pero el comportamiento del grupo B es un poco peculiar lo que puede indicar que tenga un numero de ventas demasiada alta en algunas fechas o un compra fuera de lo normal en cuanto a precio"
   ]
  },
  {
   "cell_type": "markdown",
   "metadata": {},
   "source": [
    "## 3 Representa gráficamente la diferencia relativa en el tamaño de pedido promedio acumulado para el grupo B en comparación con el grupo A."
   ]
  },
  {
   "cell_type": "code",
   "execution_count": 17,
   "metadata": {},
   "outputs": [
    {
     "name": "stdout",
     "output_type": "stream",
     "text": [
      "         date groupA  transactionsA  buyersA  revenueA  visitorsA groupB  \\\n",
      "0  2019-08-01      A             24       20    2356.8        719      B   \n",
      "1  2019-08-02      A             44       38    3860.3       1338      B   \n",
      "2  2019-08-03      A             68       62    5675.5       1845      B   \n",
      "3  2019-08-04      A             84       77    6822.1       2562      B   \n",
      "4  2019-08-05      A            109      100    8810.2       3318      B   \n",
      "5  2019-08-06      A            127      114    9600.0       3985      B   \n",
      "6  2019-08-07      A            145      131   11842.9       4629      B   \n",
      "7  2019-08-08      A            161      146   13373.3       5239      B   \n",
      "8  2019-08-09      A            177      159   16320.4       5856      B   \n",
      "9  2019-08-10      A            193      175   19608.6       6262      B   \n",
      "10 2019-08-11      A            206      187   20838.3       6980      B   \n",
      "11 2019-08-12      A            230      210   24749.1       7575      B   \n",
      "12 2019-08-13      A            244      223   28846.0       8323      B   \n",
      "13 2019-08-14      A            268      247   29910.8       9058      B   \n",
      "14 2019-08-15      A            283      259   31319.0       9686      B   \n",
      "15 2019-08-16      A            301      277   32918.1      10047      B   \n",
      "16 2019-08-17      A            311      283   33723.6      10459      B   \n",
      "17 2019-08-18      A            328      300   34895.4      11127      B   \n",
      "18 2019-08-19      A            350      320   37884.5      11629      B   \n",
      "19 2019-08-20      A            362      330   39116.8      12204      B   \n",
      "20 2019-08-21      A            385      350   41872.3      12850      B   \n",
      "21 2019-08-22      A            401      361   43655.6      13459      B   \n",
      "22 2019-08-23      A            426      385   45543.6      13927      B   \n",
      "23 2019-08-24      A            441      400   47546.3      14322      B   \n",
      "24 2019-08-25      A            451      409   48625.2      14943      B   \n",
      "25 2019-08-26      A            467      425   51090.0      15665      B   \n",
      "26 2019-08-27      A            495      449   55601.1      16376      B   \n",
      "27 2019-08-28      A            512      464   57203.7      16970      B   \n",
      "28 2019-08-29      A            534      484   62199.2      17547      B   \n",
      "29 2019-08-30      A            545      493   63563.5      18037      B   \n",
      "30 2019-08-31      A            557      503   64554.9      18736      B   \n",
      "\n",
      "    transactionsB  buyersB  revenueB  visitorsB  \n",
      "0              21       20    1620.0        713  \n",
      "1              45       43    4243.8       1294  \n",
      "2              61       59    6050.6       1803  \n",
      "3              78       75    7767.9       2573  \n",
      "4             101       98    9262.9       3280  \n",
      "5             129      123   13069.3       3935  \n",
      "6             153      146   16600.8       4644  \n",
      "7             180      171   20088.6       5298  \n",
      "8             205      193   22646.7       5908  \n",
      "9             228      215   24367.1       6277  \n",
      "10            241      228   25228.3       6998  \n",
      "11            264      248   27474.0       7541  \n",
      "12            285      268   29384.0       8310  \n",
      "13            308      287   32095.7       9056  \n",
      "14            339      317   37457.6       9600  \n",
      "15            359      336   40155.3      10013  \n",
      "16            373      349   41436.8      10434  \n",
      "17            382      357   42481.7      11171  \n",
      "18            403      377   64546.6      11658  \n",
      "19            423      396   66871.2      12218  \n",
      "20            437      407   69427.1      12874  \n",
      "21            462      427   71987.9      13524  \n",
      "22            477      440   73787.4      14070  \n",
      "23            493      454   75314.6      14448  \n",
      "24            507      466   76941.1      15127  \n",
      "25            532      490   79841.5      15803  \n",
      "26            548      504   82161.3      16523  \n",
      "27            576      526   83719.3      17177  \n",
      "28            596      544   87343.0      17708  \n",
      "29            620      567   90736.3      18198  \n",
      "30            640      586   92840.6      18916  \n"
     ]
    }
   ],
   "source": [
    "mergeAcuPedidos = acuA.merge(acuB,left_on='date',right_on='date',how='left',suffixes=['A','B'])\n",
    "print(mergeAcuPedidos)"
   ]
  },
  {
   "cell_type": "code",
   "execution_count": 18,
   "metadata": {},
   "outputs": [
    {
     "data": {
      "image/png": "[encoded data removed]",
      "text/plain": [
       "<Figure size 1000x500 with 1 Axes>"
      ]
     },
     "metadata": {},
     "output_type": "display_data"
    }
   ],
   "source": [
    "plt.figure(figsize=(10,5))\n",
    "plt.plot(mergeAcuPedidos['date'],(mergeAcuPedidos['revenueB']/mergeAcuPedidos['transactionsB'])/(mergeAcuPedidos['revenueA']/mergeAcuPedidos['transactionsA'])-1)\n",
    "plt.axhline(y=0,color='black',linestyle='--')\n",
    "plt.xticks(rotation=45)\n",
    "plt.show()"
   ]
  },
  {
   "cell_type": "markdown",
   "metadata": {},
   "source": [
    "-En varios puntos la diferencia entre los segmentos aumenta y como se puede ver tambien disminuye \n",
    "\n",
    "-Lo anterior puede deberse como se viene concluyendo en valores atipicos en las ordenes ya sea una gran cantidad de estas o una con precio muy alto "
   ]
  },
  {
   "cell_type": "markdown",
   "metadata": {},
   "source": [
    "## 4 Calcula la tasa de conversión de cada grupo como la relación entre los pedidos y el número de visitas de cada día. Representa gráficamente las tasas de conversión diarias de los dos grupos "
   ]
  },
  {
   "cell_type": "code",
   "execution_count": 19,
   "metadata": {},
   "outputs": [],
   "source": [
    "datosAcu['conversion'] = datosAcu['transactions']/datosAcu['visitors']\n",
    "conversionacuA = datosAcu[datosAcu['group']=='A']\n",
    "conversionacuB = datosAcu[datosAcu['group']=='B']"
   ]
  },
  {
   "cell_type": "code",
   "execution_count": 20,
   "metadata": {},
   "outputs": [
    {
     "data": {
      "image/png": "[encoded data removed]",
      "text/plain": [
       "<Figure size 1000x500 with 1 Axes>"
      ]
     },
     "metadata": {},
     "output_type": "display_data"
    }
   ],
   "source": [
    "plt.figure(figsize=(10,5))\n",
    "plt.plot(conversionacuA['date'],conversionacuA['conversion'],label='A')\n",
    "plt.plot(conversionacuB['date'],conversionacuB['conversion'],label='B')\n",
    "plt.legend()\n",
    "plt.xticks(rotation=45)\n",
    "plt.show()"
   ]
  },
  {
   "cell_type": "markdown",
   "metadata": {},
   "source": [
    "-La tasa de converion del grupo A fue mayor en su inicio pero esta fue declinando con el tiempo \n",
    "\n",
    "-La tasa de conversion del grupo B fue inferior al grupo en su inicio por luego esta aumento considerablemente en relacion con el grupo A\n",
    "\n",
    "-Por lo que se puede ver el grupo B tuve un mayor interes en realizar pedidos conforme se realizo la prueba."
   ]
  },
  {
   "cell_type": "markdown",
   "metadata": {},
   "source": [
    "## 5 Traza un gráfico de dispersión del número de pedidos por usuario."
   ]
  },
  {
   "cell_type": "code",
   "execution_count": 37,
   "metadata": {},
   "outputs": [
    {
     "name": "stdout",
     "output_type": "stream",
     "text": [
      "0\n"
     ]
    }
   ],
   "source": [
    "print(df_orders['transactionId'].duplicated().sum())"
   ]
  },
  {
   "cell_type": "code",
   "execution_count": 39,
   "metadata": {},
   "outputs": [
    {
     "name": "stdout",
     "output_type": "stream",
     "text": [
      "          UserId  orders\n",
      "1023  4256040402      11\n",
      "591   2458001652      11\n",
      "569   2378935119       9\n",
      "487   2038680547       8\n",
      "44     199603092       5\n",
      "...          ...     ...\n",
      "359   1484903144       1\n",
      "360   1485964287       1\n",
      "361   1494664757       1\n",
      "362   1495112755       1\n",
      "1030  4283872382       1\n",
      "\n",
      "[1031 rows x 2 columns]\n"
     ]
    },
    {
     "data": {
      "image/png": "[encoded data removed]",
      "text/plain": [
       "<Figure size 640x480 with 1 Axes>"
      ]
     },
     "metadata": {},
     "output_type": "display_data"
    }
   ],
   "source": [
    "orderByUser = df_orders.drop(['date','revenue','group'],axis=1).groupby('visitorId',as_index=False).agg({'transactionId':pd.Series.nunique})\n",
    "orderByUser.columns = ['UserId','orders']\n",
    "print(orderByUser.sort_values(by='orders',ascending=False))\n",
    "\n",
    "xv = pd.Series(range(0,len(orderByUser)))\n",
    "plt.scatter(xv,orderByUser['orders'])\n",
    "plt.show()"
   ]
  },
  {
   "cell_type": "markdown",
   "metadata": {},
   "source": [
    "-Del registro de ordenes quer se posee se puede apreciar que los usuarios registrados en general realizaron una sola orden ya que en el grafico de dispersion es practicamente una linea continua\n",
    "-Los usuarios que realizan 3 o mas compras son escazos por lo que podrian ser catalagodos como datos anomalos"
   ]
  },
  {
   "cell_type": "markdown",
   "metadata": {},
   "source": [
    "## 6 Calcula los percentiles 95 y 99 del número de pedidos por usuario."
   ]
  },
  {
   "cell_type": "code",
   "execution_count": 40,
   "metadata": {},
   "outputs": [
    {
     "name": "stdout",
     "output_type": "stream",
     "text": [
      "[2. 4.]\n"
     ]
    }
   ],
   "source": [
    "print(np.percentile(orderByUser['orders'],[95,99]))"
   ]
  },
  {
   "cell_type": "markdown",
   "metadata": {},
   "source": [
    "-No mas del 5% de los usuarios realizan 2 o mas ordenes\n",
    "\n",
    "-No mas del 1% de los usuarios relizan 4 o mas ordenes\n",
    "\n",
    "-El umbral de pedidos se dejara en 2 ordenes el cual seria un comportamiento normal para un usuario para este analisis"
   ]
  },
  {
   "cell_type": "markdown",
   "metadata": {},
   "source": [
    "## 7 Traza un gráfico de dispersión de los precios de los pedidos."
   ]
  },
  {
   "cell_type": "code",
   "execution_count": 41,
   "metadata": {},
   "outputs": [
    {
     "data": {
      "image/png": "[encoded data removed]",
      "text/plain": [
       "<Figure size 640x480 with 1 Axes>"
      ]
     },
     "metadata": {},
     "output_type": "display_data"
    }
   ],
   "source": [
    "x_values = pd.Series(range(0,len(df_orders['revenue'])))\n",
    "plt.scatter(x_values,df_orders['revenue'])\n",
    "plt.show()"
   ]
  },
  {
   "cell_type": "markdown",
   "metadata": {},
   "source": [
    "-La gran mayoria de las ordenes esta por debajo de los 2500\n",
    "\n",
    "-Los datos muy extremos que en este caso es en los 20000 puede ser una sola persona en una orden muy grande lo cual no es un comportamiento normal de los usuarios \n"
   ]
  },
  {
   "cell_type": "markdown",
   "metadata": {},
   "source": [
    "## 8 Calcula los percentiles 95 y 99 de los precios de los pedidos. "
   ]
  },
  {
   "cell_type": "code",
   "execution_count": 42,
   "metadata": {},
   "outputs": [
    {
     "name": "stdout",
     "output_type": "stream",
     "text": [
      "[435.54  900.904]\n"
     ]
    }
   ],
   "source": [
    "print(np.percentile(df_orders['revenue'],[95,99]))"
   ]
  },
  {
   "cell_type": "markdown",
   "metadata": {},
   "source": [
    "-No mas del 5% cuesta 436 o mas en las ordenes o pedidos\n",
    "\n",
    "-No mas del 1% cuesta 900 o mas en sus ordenes\n",
    "\n",
    "-El umbral de ordenes se dejara en 436 el cual seria un comportamiento normal para un usuario para este analisis"
   ]
  },
  {
   "cell_type": "markdown",
   "metadata": {},
   "source": [
    "## 9 Encuentra la significancia estadística de la diferencia en la conversión entre los grupos utilizando los datos en bruto."
   ]
  },
  {
   "cell_type": "code",
   "execution_count": 45,
   "metadata": {},
   "outputs": [
    {
     "name": "stdout",
     "output_type": "stream",
     "text": [
      "         date group  visits\n",
      "0  2019-08-01     A     719\n",
      "1  2019-08-02     A     619\n",
      "2  2019-08-03     A     507\n",
      "3  2019-08-04     A     717\n",
      "4  2019-08-05     A     756\n",
      "..        ...   ...     ...\n",
      "57 2019-08-27     B     720\n",
      "58 2019-08-28     B     654\n",
      "59 2019-08-29     B     531\n",
      "60 2019-08-30     B     490\n",
      "61 2019-08-31     B     718\n",
      "\n",
      "[62 rows x 3 columns]\n"
     ]
    }
   ],
   "source": [
    "print(df_visits)"
   ]
  },
  {
   "cell_type": "code",
   "execution_count": 47,
   "metadata": {},
   "outputs": [],
   "source": [
    "orderByUserA = df_orders[df_orders['group']=='A'].groupby('visitorId',as_index=False).agg({'transactionId':pd.Series.nunique})\n",
    "orderByUserA.columns=['userId','orders']\n",
    "orderByUserB = df_orders[df_orders['group']=='B'].groupby('visitorId',as_index=False).agg({'transactionId':pd.Series.nunique})\n",
    "orderByUserB.columns=['userId','orders']\n",
    "\n",
    "muestraA = pd.concat([orderByUserA['orders'],pd.Series(0,index=np.arange(\n",
    "    df_visits[df_visits['group']=='A']['visits'].sum()-len(orderByUserA['orders'])),name='orders')],axis=0)\n",
    "\n",
    "muestraB = pd.concat([orderByUserA['orders'],pd.Series(0,index=np.arange(\n",
    "    df_visits[df_visits['group']=='B']['visits'].sum()-len(orderByUserA['orders'])),name='orders')],axis=0)\n"
   ]
  },
  {
   "cell_type": "code",
   "execution_count": 75,
   "metadata": {},
   "outputs": [
    {
     "name": "stdout",
     "output_type": "stream",
     "text": [
      "0.8778530458242377\n",
      "-0.009515753859166809\n"
     ]
    }
   ],
   "source": [
    "print(st.mannwhitneyu(muestraA,muestraB)[1])\n",
    "\n",
    "print((muestraB.mean()/muestraA.mean()-1))"
   ]
  },
  {
   "cell_type": "markdown",
   "metadata": {},
   "source": [
    "-El valor de alpha valor de significancia es 0.05 segun el resultado de la prueba no hay diferencia estadistica entra las 2 muestras al ser esta mayor a 0.05\n",
    "\n",
    "-La perdida relativa del grupo B es de un 0.9% "
   ]
  },
  {
   "cell_type": "markdown",
   "metadata": {},
   "source": [
    "## 10 Encuentra la significancia estadística de la diferencia en el tamaño promedio de pedido entre los grupos utilizando los datos en bruto."
   ]
  },
  {
   "cell_type": "code",
   "execution_count": 56,
   "metadata": {},
   "outputs": [
    {
     "name": "stdout",
     "output_type": "stream",
     "text": [
      "0.6915246773264736\n",
      "0.25165300678182456\n"
     ]
    }
   ],
   "source": [
    "print(st.mannwhitneyu(df_orders[df_orders['group']=='A']['revenue'],df_orders[df_orders['group']=='B']['revenue'])[1])\n",
    "print(df_orders[df_orders['group']=='B']['revenue'].mean()/df_orders[df_orders['group']=='A']['revenue'].mean()-1)"
   ]
  },
  {
   "cell_type": "markdown",
   "metadata": {},
   "source": [
    "-No hay una diferencia estadisticas en el tamaño promedio de pedidos ya que el valor de p es superior a 0.05(alpha o valor de significancia)\n",
    "\n",
    "-El tamaño de pedido promedio es mayor para el grupo B"
   ]
  },
  {
   "cell_type": "markdown",
   "metadata": {},
   "source": [
    "## 11 Encuentra la significancia estadística de la diferencia en la conversión entre los grupos utilizando los datos filtrados."
   ]
  },
  {
   "cell_type": "code",
   "execution_count": 67,
   "metadata": {},
   "outputs": [
    {
     "name": "stdout",
     "output_type": "stream",
     "text": [
      "1099     148427295\n",
      "18       199603092\n",
      "928      204675465\n",
      "23       237748145\n",
      "37       249864742\n",
      "           ...    \n",
      "723     4009017467\n",
      "627     4120364173\n",
      "743     4133034833\n",
      "499     4256040402\n",
      "662     4266935830\n",
      "Length: 73, dtype: int64\n",
      "(73,)\n"
     ]
    }
   ],
   "source": [
    "userMuchasOrdenes = pd.concat([orderByUserA[orderByUserA['orders']>2]['userId'],orderByUserB[orderByUserB['orders']>2]['userId']],axis=0)\n",
    "userOrdenCara = df_orders[df_orders['revenue']>436]['visitorId']\n",
    "userAnormales = pd.concat([userMuchasOrdenes,userOrdenCara],axis=0).drop_duplicates().sort_values()\n",
    "\n",
    "print(userAnormales)\n",
    "print(userAnormales.shape)"
   ]
  },
  {
   "cell_type": "code",
   "execution_count": 68,
   "metadata": {},
   "outputs": [],
   "source": [
    "filtroMuestraA = pd.concat([orderByUserA[np.logical_not(orderByUserA['userId'].isin(userAnormales))]['orders'],\n",
    "                            pd.Series(0,index=np.arange(df_visits[df_visits['group']=='A']['visits'].sum()-len(orderByUserA['orders'])),\n",
    "                                      name='orders')],axis=0)\n",
    "\n",
    "filtroMuestraB = pd.concat([orderByUserB[np.logical_not(orderByUserB['userId'].isin(userAnormales))]['orders'],\n",
    "                            pd.Series(0,index=np.arange(df_visits[df_visits['group']=='A']['visits'].sum()-len(orderByUserB['orders'])),\n",
    "                                      name='orders')],axis=0)"
   ]
  },
  {
   "cell_type": "code",
   "execution_count": 76,
   "metadata": {},
   "outputs": [
    {
     "name": "stdout",
     "output_type": "stream",
     "text": [
      "0.009226229938684357\n",
      "0.18156103016892322\n"
     ]
    }
   ],
   "source": [
    "print(st.mannwhitneyu(filtroMuestraA ,filtroMuestraB)[1])\n",
    "print(filtroMuestraB.mean()/filtroMuestraA.mean()-1)"
   ]
  },
  {
   "cell_type": "markdown",
   "metadata": {},
   "source": [
    "-El valor de alpha valor de significancia es 0.05 segun el resultado de la prueba no hay diferencia estadistica entra las 2 muestras al ser esta mayor a 0.05\n",
    "\n",
    "-La ganancia relativa del grupo B es de un 18% "
   ]
  },
  {
   "cell_type": "markdown",
   "metadata": {},
   "source": [
    "## 12 Encuentra la significancia estadística de la diferencia en el tamaño promedio de pedido entre los grupos utilizando los datos filtrados."
   ]
  },
  {
   "cell_type": "code",
   "execution_count": 77,
   "metadata": {},
   "outputs": [
    {
     "name": "stdout",
     "output_type": "stream",
     "text": [
      "0.743836016813833\n",
      "-0.028039551205237823\n"
     ]
    }
   ],
   "source": [
    "print(st.mannwhitneyu(df_orders[np.logical_and(df_orders['group']=='A',np.logical_not(df_orders['visitorId'].isin(userAnormales)))]['revenue'],\n",
    "                     df_orders[np.logical_and(df_orders['group']=='B',np.logical_not(df_orders['visitorId'].isin(userAnormales)))]['revenue'])[1])\n",
    "\n",
    "print(df_orders[np.logical_and(df_orders['group']=='B',np.logical_not(df_orders['visitorId'].isin(userAnormales)))]['revenue'].mean() / \n",
    "                     df_orders[np.logical_and(df_orders['group']=='A',np.logical_not(df_orders['visitorId'].isin(userAnormales)))]['revenue'].mean()-1)"
   ]
  },
  {
   "cell_type": "markdown",
   "metadata": {},
   "source": [
    "-No hay una diferencia estadistica entre el tamaño promedio de pedidos ya que p es superior a alpha(0.05)\n",
    "\n",
    "-la perdida relativa promedio fue de un 2%\n",
    "\n",
    "-Con los resultados del analisis con los datos filtrados se puede ver que diferencia relativa aumento por lo que los pedidos anomalos eran los que resaltaban a simple vista que el grupo B era mejor"
   ]
  },
  {
   "cell_type": "markdown",
   "metadata": {},
   "source": [
    "## 13 Toma una decisión basada en los resultados de la prueba. "
   ]
  },
  {
   "cell_type": "markdown",
   "metadata": {},
   "source": [
    "-Como se ha podido ver en el analisis no existe una gran diferencia estadisticas entre las muestras \n",
    "\n",
    "-Mediante la filtracion de los datos se pudo ver que el grupo B que era el grupo mas prometedor inicialmente en cuanto a promedio de pedidos era ligeramente inferior al grupo A por\n",
    "\n",
    "-Se aconseja parar la prueba ya que los 2 grupos no tienen una diferencia estadisticas significativa que permita seleccionar uno de los 2 grupos "
   ]
  },
  {
   "cell_type": "code",
   "execution_count": null,
   "metadata": {},
   "outputs": [],
   "source": []
  }
 ],
 "metadata": {
  "ExecuteTimeLog": [
   {
    "duration": 310,
    "start_time": "2024-09-16T13:02:15.169Z"
   },
   {
    "duration": 519,
    "start_time": "2024-09-16T13:03:13.166Z"
   },
   {
    "duration": 8,
    "start_time": "2024-09-16T13:03:47.002Z"
   },
   {
    "duration": 9,
    "start_time": "2024-09-16T13:04:02.049Z"
   },
   {
    "duration": 6,
    "start_time": "2024-09-16T13:04:22.158Z"
   },
   {
    "duration": 7,
    "start_time": "2024-09-16T13:04:22.924Z"
   },
   {
    "duration": 4,
    "start_time": "2024-09-16T13:04:43.159Z"
   },
   {
    "duration": 14,
    "start_time": "2024-09-16T13:11:07.882Z"
   },
   {
    "duration": 6,
    "start_time": "2024-09-16T13:12:50.011Z"
   },
   {
    "duration": 7,
    "start_time": "2024-09-16T13:13:25.898Z"
   },
   {
    "duration": 17,
    "start_time": "2024-09-16T13:49:21.153Z"
   },
   {
    "duration": 17,
    "start_time": "2024-09-16T13:49:32.146Z"
   },
   {
    "duration": 10,
    "start_time": "2024-09-16T13:49:34.846Z"
   },
   {
    "duration": 10,
    "start_time": "2024-09-16T17:35:23.805Z"
   },
   {
    "duration": 5,
    "start_time": "2024-09-16T17:42:51.468Z"
   },
   {
    "duration": 6,
    "start_time": "2024-09-16T17:43:12.895Z"
   },
   {
    "duration": 6,
    "start_time": "2024-09-16T17:43:35.568Z"
   },
   {
    "duration": 139,
    "start_time": "2024-09-16T17:51:06.854Z"
   },
   {
    "duration": 1920,
    "start_time": "2024-09-16T17:51:33.754Z"
   },
   {
    "duration": 94,
    "start_time": "2024-09-16T17:51:38.854Z"
   },
   {
    "duration": 57,
    "start_time": "2024-09-16T17:51:56.782Z"
   },
   {
    "duration": 82,
    "start_time": "2024-09-16T17:53:18.981Z"
   },
   {
    "duration": 56,
    "start_time": "2024-09-16T17:56:29.544Z"
   },
   {
    "duration": 16,
    "start_time": "2024-09-16T17:57:44.427Z"
   },
   {
    "duration": 11,
    "start_time": "2024-09-16T17:57:58.456Z"
   },
   {
    "duration": 16,
    "start_time": "2024-09-16T17:58:18.794Z"
   },
   {
    "duration": 411,
    "start_time": "2024-09-16T18:09:37.777Z"
   },
   {
    "duration": 3,
    "start_time": "2024-09-16T18:10:10.102Z"
   },
   {
    "duration": 2621,
    "start_time": "2024-09-16T18:13:18.103Z"
   },
   {
    "duration": 148,
    "start_time": "2024-09-16T18:14:27.387Z"
   },
   {
    "duration": 6,
    "start_time": "2024-09-16T18:17:54.211Z"
   },
   {
    "duration": 17,
    "start_time": "2024-09-16T18:20:35.821Z"
   },
   {
    "duration": 326,
    "start_time": "2024-09-16T18:23:38.852Z"
   },
   {
    "duration": 92,
    "start_time": "2024-09-16T18:23:50.455Z"
   },
   {
    "duration": 7,
    "start_time": "2024-09-16T18:27:16.477Z"
   },
   {
    "duration": 12,
    "start_time": "2024-09-16T18:29:31.050Z"
   },
   {
    "duration": 10,
    "start_time": "2024-09-16T18:31:15.986Z"
   },
   {
    "duration": 597,
    "start_time": "2024-09-16T18:37:31.662Z"
   },
   {
    "duration": 181,
    "start_time": "2024-09-16T18:38:12.793Z"
   },
   {
    "duration": 13,
    "start_time": "2024-09-16T18:43:50.450Z"
   },
   {
    "duration": 4,
    "start_time": "2024-09-16T18:43:58.921Z"
   },
   {
    "duration": 114,
    "start_time": "2024-09-16T18:44:01.591Z"
   },
   {
    "duration": 138,
    "start_time": "2024-09-16T18:45:01.168Z"
   },
   {
    "duration": 130,
    "start_time": "2024-09-16T18:45:08.264Z"
   },
   {
    "duration": 256,
    "start_time": "2024-09-16T18:46:42.964Z"
   },
   {
    "duration": 143,
    "start_time": "2024-09-16T18:55:39.059Z"
   },
   {
    "duration": 120,
    "start_time": "2024-09-16T19:13:46.845Z"
   },
   {
    "duration": 152,
    "start_time": "2024-09-16T19:14:56.189Z"
   },
   {
    "duration": 147,
    "start_time": "2024-09-16T19:33:29.954Z"
   },
   {
    "duration": 6,
    "start_time": "2024-09-16T19:37:17.660Z"
   },
   {
    "duration": 150,
    "start_time": "2024-09-16T19:37:21.804Z"
   },
   {
    "duration": 146,
    "start_time": "2024-09-16T19:37:28.925Z"
   },
   {
    "duration": 15,
    "start_time": "2024-09-16T19:39:34.890Z"
   },
   {
    "duration": 7,
    "start_time": "2024-09-16T19:39:43.021Z"
   },
   {
    "duration": 11,
    "start_time": "2024-09-16T19:39:57.614Z"
   },
   {
    "duration": 135,
    "start_time": "2024-09-16T19:44:03.261Z"
   },
   {
    "duration": 249,
    "start_time": "2024-09-16T19:44:11.022Z"
   },
   {
    "duration": 253,
    "start_time": "2024-09-16T19:44:46.418Z"
   },
   {
    "duration": 242,
    "start_time": "2024-09-16T19:45:09.573Z"
   },
   {
    "duration": 8,
    "start_time": "2024-09-16T19:53:03.128Z"
   },
   {
    "duration": 4,
    "start_time": "2024-09-16T19:56:21.988Z"
   },
   {
    "duration": 185,
    "start_time": "2024-09-16T19:58:23.624Z"
   },
   {
    "duration": 508,
    "start_time": "2024-09-16T20:00:52.366Z"
   },
   {
    "duration": 104,
    "start_time": "2024-09-16T20:01:11.728Z"
   },
   {
    "duration": 14,
    "start_time": "2024-09-16T20:01:25.777Z"
   },
   {
    "duration": 7,
    "start_time": "2024-09-16T20:03:25.126Z"
   },
   {
    "duration": 98,
    "start_time": "2024-09-16T20:03:30.834Z"
   },
   {
    "duration": 252,
    "start_time": "2024-09-16T20:04:36.451Z"
   },
   {
    "duration": 106,
    "start_time": "2024-09-16T20:06:19.805Z"
   },
   {
    "duration": 4,
    "start_time": "2024-09-16T20:08:51.590Z"
   },
   {
    "duration": 2651,
    "start_time": "2024-09-17T12:35:09.547Z"
   },
   {
    "duration": 29,
    "start_time": "2024-09-17T12:35:12.200Z"
   },
   {
    "duration": 15,
    "start_time": "2024-09-17T12:35:12.231Z"
   },
   {
    "duration": 6,
    "start_time": "2024-09-17T12:35:12.248Z"
   },
   {
    "duration": 5,
    "start_time": "2024-09-17T12:35:12.257Z"
   },
   {
    "duration": 10,
    "start_time": "2024-09-17T12:35:12.264Z"
   },
   {
    "duration": 9,
    "start_time": "2024-09-17T12:35:12.276Z"
   },
   {
    "duration": 8,
    "start_time": "2024-09-17T12:35:12.286Z"
   },
   {
    "duration": 50,
    "start_time": "2024-09-17T12:35:12.296Z"
   },
   {
    "duration": 176,
    "start_time": "2024-09-17T12:35:12.350Z"
   },
   {
    "duration": 100,
    "start_time": "2024-09-17T12:35:12.531Z"
   },
   {
    "duration": 5,
    "start_time": "2024-09-17T12:35:12.633Z"
   },
   {
    "duration": 10,
    "start_time": "2024-09-17T12:35:12.640Z"
   },
   {
    "duration": 6,
    "start_time": "2024-09-17T12:35:12.652Z"
   },
   {
    "duration": 223,
    "start_time": "2024-09-17T12:35:12.661Z"
   },
   {
    "duration": 186,
    "start_time": "2024-09-17T12:35:12.885Z"
   },
   {
    "duration": 8,
    "start_time": "2024-09-17T12:35:13.074Z"
   },
   {
    "duration": 258,
    "start_time": "2024-09-17T12:35:13.085Z"
   },
   {
    "duration": 6,
    "start_time": "2024-09-17T12:35:13.345Z"
   },
   {
    "duration": 194,
    "start_time": "2024-09-17T12:35:13.353Z"
   },
   {
    "duration": 166,
    "start_time": "2024-09-17T12:35:13.549Z"
   },
   {
    "duration": 4,
    "start_time": "2024-09-17T12:35:13.716Z"
   },
   {
    "duration": 109,
    "start_time": "2024-09-17T12:41:05.456Z"
   },
   {
    "duration": 113,
    "start_time": "2024-09-17T12:41:23.670Z"
   },
   {
    "duration": 4,
    "start_time": "2024-09-17T12:43:01.782Z"
   },
   {
    "duration": 272,
    "start_time": "2024-09-17T12:50:36.094Z"
   },
   {
    "duration": 6,
    "start_time": "2024-09-17T12:56:11.380Z"
   },
   {
    "duration": 6,
    "start_time": "2024-09-17T12:56:22.261Z"
   },
   {
    "duration": 8,
    "start_time": "2024-09-17T12:57:09.088Z"
   },
   {
    "duration": 6,
    "start_time": "2024-09-17T12:58:54.127Z"
   },
   {
    "duration": 4,
    "start_time": "2024-09-17T13:02:20.709Z"
   },
   {
    "duration": 170,
    "start_time": "2024-09-17T13:02:22.776Z"
   },
   {
    "duration": 429,
    "start_time": "2024-09-17T13:12:20.255Z"
   },
   {
    "duration": 25,
    "start_time": "2024-09-17T13:14:02.569Z"
   },
   {
    "duration": 22,
    "start_time": "2024-09-17T13:20:11.206Z"
   },
   {
    "duration": 21,
    "start_time": "2024-09-17T13:20:42.013Z"
   },
   {
    "duration": 31,
    "start_time": "2024-09-17T13:21:07.051Z"
   },
   {
    "duration": 21,
    "start_time": "2024-09-17T13:21:22.713Z"
   },
   {
    "duration": 32,
    "start_time": "2024-09-17T13:22:32.529Z"
   },
   {
    "duration": 20,
    "start_time": "2024-09-17T13:22:43.680Z"
   },
   {
    "duration": 21,
    "start_time": "2024-09-17T13:23:17.785Z"
   },
   {
    "duration": 22,
    "start_time": "2024-09-17T13:23:33.477Z"
   },
   {
    "duration": 29,
    "start_time": "2024-09-17T13:27:07.032Z"
   },
   {
    "duration": 26,
    "start_time": "2024-09-17T13:27:13.001Z"
   },
   {
    "duration": 7,
    "start_time": "2024-09-17T13:27:45.821Z"
   },
   {
    "duration": 6,
    "start_time": "2024-09-17T13:29:28.701Z"
   },
   {
    "duration": 7,
    "start_time": "2024-09-17T13:33:20.209Z"
   },
   {
    "duration": 6,
    "start_time": "2024-09-17T13:34:21.619Z"
   },
   {
    "duration": 11,
    "start_time": "2024-09-17T13:34:30.251Z"
   },
   {
    "duration": 10,
    "start_time": "2024-09-17T13:34:54.464Z"
   },
   {
    "duration": 7,
    "start_time": "2024-09-17T13:37:13.508Z"
   },
   {
    "duration": 7,
    "start_time": "2024-09-17T13:47:18.474Z"
   },
   {
    "duration": 4,
    "start_time": "2024-09-17T13:50:48.915Z"
   },
   {
    "duration": 11,
    "start_time": "2024-09-17T18:37:59.122Z"
   },
   {
    "duration": 247,
    "start_time": "2024-09-17T18:38:02.850Z"
   },
   {
    "duration": 4,
    "start_time": "2024-09-17T18:43:31.199Z"
   },
   {
    "duration": 165,
    "start_time": "2024-09-17T18:43:47.815Z"
   },
   {
    "duration": 103,
    "start_time": "2024-09-17T19:53:12.319Z"
   },
   {
    "duration": 2477,
    "start_time": "2024-09-18T12:27:18.561Z"
   },
   {
    "duration": 18,
    "start_time": "2024-09-18T12:27:21.040Z"
   },
   {
    "duration": 10,
    "start_time": "2024-09-18T12:27:21.059Z"
   },
   {
    "duration": 5,
    "start_time": "2024-09-18T12:27:21.070Z"
   },
   {
    "duration": 5,
    "start_time": "2024-09-18T12:27:21.077Z"
   },
   {
    "duration": 7,
    "start_time": "2024-09-18T12:27:21.084Z"
   },
   {
    "duration": 7,
    "start_time": "2024-09-18T12:27:21.093Z"
   },
   {
    "duration": 37,
    "start_time": "2024-09-18T12:27:21.101Z"
   },
   {
    "duration": 13,
    "start_time": "2024-09-18T12:27:21.140Z"
   },
   {
    "duration": 157,
    "start_time": "2024-09-18T12:27:21.154Z"
   },
   {
    "duration": 97,
    "start_time": "2024-09-18T12:27:21.313Z"
   },
   {
    "duration": 19,
    "start_time": "2024-09-18T12:27:21.412Z"
   },
   {
    "duration": 10,
    "start_time": "2024-09-18T12:27:21.433Z"
   },
   {
    "duration": 3,
    "start_time": "2024-09-18T12:27:21.446Z"
   },
   {
    "duration": 168,
    "start_time": "2024-09-18T12:27:21.451Z"
   },
   {
    "duration": 154,
    "start_time": "2024-09-18T12:27:21.620Z"
   },
   {
    "duration": 11,
    "start_time": "2024-09-18T12:27:21.776Z"
   },
   {
    "duration": 251,
    "start_time": "2024-09-18T12:27:21.789Z"
   },
   {
    "duration": 5,
    "start_time": "2024-09-18T12:27:22.042Z"
   },
   {
    "duration": 187,
    "start_time": "2024-09-18T12:27:22.049Z"
   },
   {
    "duration": 104,
    "start_time": "2024-09-18T12:27:22.237Z"
   },
   {
    "duration": 4,
    "start_time": "2024-09-18T12:27:22.343Z"
   },
   {
    "duration": 109,
    "start_time": "2024-09-18T12:27:22.349Z"
   },
   {
    "duration": 3,
    "start_time": "2024-09-18T12:27:22.460Z"
   },
   {
    "duration": 6,
    "start_time": "2024-09-18T12:27:22.465Z"
   },
   {
    "duration": 7,
    "start_time": "2024-09-18T12:27:22.473Z"
   },
   {
    "duration": 3,
    "start_time": "2024-09-18T12:27:22.481Z"
   },
   {
    "duration": 6,
    "start_time": "2024-09-18T12:33:03.214Z"
   },
   {
    "duration": 7,
    "start_time": "2024-09-18T12:33:08.928Z"
   },
   {
    "duration": 264,
    "start_time": "2024-09-18T12:35:46.308Z"
   },
   {
    "duration": 131,
    "start_time": "2024-09-18T12:35:53.834Z"
   },
   {
    "duration": 39,
    "start_time": "2024-09-18T12:36:58.843Z"
   },
   {
    "duration": 130,
    "start_time": "2024-09-18T12:37:08.708Z"
   },
   {
    "duration": 149,
    "start_time": "2024-09-18T12:37:36.108Z"
   },
   {
    "duration": 125,
    "start_time": "2024-09-18T12:38:15.473Z"
   },
   {
    "duration": 234,
    "start_time": "2024-09-18T12:39:01.836Z"
   },
   {
    "duration": 3,
    "start_time": "2024-09-18T12:41:06.017Z"
   },
   {
    "duration": 3,
    "start_time": "2024-09-18T12:44:31.626Z"
   },
   {
    "duration": 204,
    "start_time": "2024-09-18T12:45:51.545Z"
   },
   {
    "duration": 4,
    "start_time": "2024-09-18T12:48:52.898Z"
   },
   {
    "duration": 105,
    "start_time": "2024-09-18T12:55:32.728Z"
   },
   {
    "duration": 4,
    "start_time": "2024-09-18T12:59:33.393Z"
   },
   {
    "duration": 71,
    "start_time": "2024-09-18T13:10:24.496Z"
   },
   {
    "duration": 121,
    "start_time": "2024-09-18T13:11:29.287Z"
   },
   {
    "duration": 6,
    "start_time": "2024-09-18T13:13:27.111Z"
   },
   {
    "duration": 151,
    "start_time": "2024-09-18T13:19:46.613Z"
   },
   {
    "duration": 116,
    "start_time": "2024-09-18T13:20:06.155Z"
   },
   {
    "duration": 13,
    "start_time": "2024-09-18T13:21:40.058Z"
   },
   {
    "duration": 13,
    "start_time": "2024-09-18T13:21:47.811Z"
   },
   {
    "duration": 17,
    "start_time": "2024-09-18T13:21:53.167Z"
   },
   {
    "duration": 15,
    "start_time": "2024-09-18T13:22:41.458Z"
   },
   {
    "duration": 15,
    "start_time": "2024-09-18T13:35:10.994Z"
   },
   {
    "duration": 4,
    "start_time": "2024-09-18T13:35:13.356Z"
   },
   {
    "duration": 82,
    "start_time": "2024-09-18T13:47:56.401Z"
   },
   {
    "duration": 7,
    "start_time": "2024-09-18T13:48:55.932Z"
   },
   {
    "duration": 9,
    "start_time": "2024-09-18T13:50:05.559Z"
   },
   {
    "duration": 17,
    "start_time": "2024-09-18T13:50:33.109Z"
   },
   {
    "duration": 4,
    "start_time": "2024-09-18T13:55:37.062Z"
   },
   {
    "duration": 14,
    "start_time": "2024-09-18T14:00:30.218Z"
   },
   {
    "duration": 420,
    "start_time": "2024-09-18T14:00:56.494Z"
   },
   {
    "duration": 6,
    "start_time": "2024-09-18T14:01:06.543Z"
   },
   {
    "duration": 7,
    "start_time": "2024-09-18T14:01:49.011Z"
   },
   {
    "duration": 6,
    "start_time": "2024-09-18T14:01:59.330Z"
   },
   {
    "duration": 18,
    "start_time": "2024-09-18T14:03:30.300Z"
   },
   {
    "duration": 14,
    "start_time": "2024-09-18T14:03:46.801Z"
   },
   {
    "duration": 6,
    "start_time": "2024-09-18T14:03:55.765Z"
   },
   {
    "duration": 7,
    "start_time": "2024-09-18T14:04:15.463Z"
   },
   {
    "duration": 8,
    "start_time": "2024-09-18T14:10:09.075Z"
   },
   {
    "duration": 15,
    "start_time": "2024-09-18T14:10:51.631Z"
   },
   {
    "duration": 15,
    "start_time": "2024-09-18T14:12:45.297Z"
   },
   {
    "duration": 8,
    "start_time": "2024-09-18T14:38:16.865Z"
   },
   {
    "duration": 55,
    "start_time": "2024-09-18T14:43:22.241Z"
   },
   {
    "duration": 57,
    "start_time": "2024-09-18T14:50:37.694Z"
   },
   {
    "duration": 11,
    "start_time": "2024-09-18T14:56:27.552Z"
   },
   {
    "duration": 15,
    "start_time": "2024-09-18T17:23:07.584Z"
   },
   {
    "duration": 15,
    "start_time": "2024-09-18T17:28:13.541Z"
   },
   {
    "duration": 10,
    "start_time": "2024-09-18T17:28:25.436Z"
   },
   {
    "duration": 8,
    "start_time": "2024-09-18T22:46:51.241Z"
   }
  ],
  "kernelspec": {
   "display_name": "Python 3 (ipykernel)",
   "language": "python",
   "name": "python3"
  },
  "language_info": {
   "codemirror_mode": {
    "name": "ipython",
    "version": 3
   },
   "file_extension": ".py",
   "mimetype": "text/x-python",
   "name": "python",
   "nbconvert_exporter": "python",
   "pygments_lexer": "ipython3",
   "version": "3.9.19"
  },
  "toc": {
   "base_numbering": 1,
   "nav_menu": {},
   "number_sections": true,
   "sideBar": true,
   "skip_h1_title": true,
   "title_cell": "Table of Contents",
   "title_sidebar": "Contents",
   "toc_cell": false,
   "toc_position": {
    "height": "calc(100% - 180px)",
    "left": "10px",
    "top": "150px",
    "width": "372.594px"
   },
   "toc_section_display": true,
   "toc_window_display": true
  }
 },
 "nbformat": 4,
 "nbformat_minor": 2
}
